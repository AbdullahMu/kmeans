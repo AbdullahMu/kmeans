{
 "cells": [
  {
   "cell_type": "markdown",
   "metadata": {
    "slideshow": {
     "slide_type": "slide"
    }
   },
   "source": [
    "<img src=\"http://imgur.com/1ZcRyrc.png\" style=\"float: left; margin: 20px; height: 55px\">\n",
    "\n",
    "# Introduction to Clustering and K-Means\n",
    "\n",
    "_Instructor: Aymeric Flaisler_\n",
    "\n",
    "---\n",
    "\n",
    "![](https://snag.gy/kYWumd.jpg)"
   ]
  },
  {
   "cell_type": "markdown",
   "metadata": {
    "slideshow": {
     "slide_type": "slide"
    }
   },
   "source": [
    "### Learning Objectives\n",
    "*After this lesson, you will be able to:*\n",
    "- Understand basic unsupervised clustering problems\n",
    "- Format and preprocess data for cluster\n",
    "- Perform a K-Means Clustering Analysis\n",
    "- Evaluate clusters for fit \n",
    "\n"
   ]
  },
  {
   "cell_type": "markdown",
   "metadata": {
    "slideshow": {
     "slide_type": "slide"
    }
   },
   "source": [
    "### Lesson Guide\n",
    "- [Unsupervised learning](#unsupervised)\n",
    "- [Introduction to clustering](#intro)\n",
    "- [What is clustering?](#what)\n",
    "- [KNN review](#knn)\n",
    "- [Clustering algorithms](#algos)\n",
    "- [K-means clustering](#k-means)\n",
    "- [Refresher: Euclidean distance](#euclidean)\n",
    "- [K-Means step-by-step](#km-steps)\n",
    "- [K-Means: a visual example](#vis)\n",
    "- [K-Means caveats and pitfalls](#caveats)\n",
    "    - [Sensitive to outliers](#sensitive)\n",
    "    - [Sensitive to centroid initialization](#centroid-init)\n",
    "    - [How many K?](#how-many-k)\n",
    "- [Choosing K](#choose-k)\n",
    "- [A note on K-Means convergence](#converge)\n",
    "- [K-Means in sklearn](#kmeans-skl)\n",
    "    - [Visually verifying cluster labels](#verify)\n",
    "- [Metrics: inertia and the silhouette coefficient](#sil)\n",
    "- [Practice: use K-Means on the \"Isotopic Composition Plutonium Batches\" data](#pluto)\n",
    "    - [How does scaling affect fit?](#scaling)\n",
    "- [Conclusion: K-Means tradeoffs](#conclusion)\n",
    "- [Additional resources](#resources)"
   ]
  },
  {
   "cell_type": "code",
   "execution_count": 2,
   "metadata": {},
   "outputs": [],
   "source": [
    "from IPython.display import Image\n",
    "from IPython.core.display import HTML "
   ]
  },
  {
   "cell_type": "markdown",
   "metadata": {
    "slideshow": {
     "slide_type": "slide"
    }
   },
   "source": [
    "<a id='unsupervised'></a>\n",
    "\n",
    "## Unsupervised learning\n",
    "\n",
    "---\n",
    " \n",
    "> **Supervised --> Classification** - create a model to predict which group a point belongs to.  \n",
    "> **Supervised --> Regression** - create a model to predict a metric.\n",
    "\n",
    "> **Unsupervised --> Clustering** - find groups that exist in the data already.\n",
    "\n",
    "Until now, we haven't talked much about unsupervised learning.  We use unsupervised methods when **we don't have labeled  data**. \n",
    "- There are no true targets to predict.\n",
    "\n",
    "We derive the likely categories from the structure in our data.\n",
    "\n",
    "| Pros | Cons |\n",
    "|---|---|\n",
    "| No labels | Difficult to evaluate correctness without subject matter expertise |\n",
    "| Few or no assumptions about data | Scaling / normalization often required |\n",
    "| Useful for subset / segmentation discovery | Can be difficult to visualize |\n",
    "| Great for broad insights | Extremely difficult to tune |\n",
    "| Many models avalable | No obvious choice in many cases |\n",
    "| Black magic | Considered \"unconventional\" and unreliable |"
   ]
  },
  {
   "cell_type": "markdown",
   "metadata": {
    "slideshow": {
     "slide_type": "slide"
    }
   },
   "source": [
    "<a name=\"intro\"></a>\n",
    "## Introduction to clustering\n",
    "\n",
    "---\n",
    "\n",
    "### Helpful uses for clustering: \n",
    "   - Find items with **similar behavior** (users, products, voters, etc)\n",
    "   - Market **segmentation**\n",
    "   - Understand complex systems\n",
    "   - **Discover meaningful categories** for your data\n",
    "   - **Reduce the number of classes** by grouping (e.g. bourbons, scotches -> whiskeys)\n",
    "   - **Pre-processing**! Create labels for supervised learning"
   ]
  },
  {
   "cell_type": "markdown",
   "metadata": {
    "slideshow": {
     "slide_type": "slide"
    }
   },
   "source": [
    "### Genetics\n",
    "![](https://snag.gy/TP2RA4.jpg)"
   ]
  },
  {
   "cell_type": "markdown",
   "metadata": {
    "slideshow": {
     "slide_type": "slide"
    }
   },
   "source": [
    "### Consumer Internet\n",
    "\n",
    "<table>\n",
    "    <tr>\n",
    "        <td><img src=\"https://snag.gy/EbLeqd.jpg\"></td>\n",
    "        <td><img src=\"https://snag.gy/xsNvK8.jpg\"></td>\n",
    "    </tr>\n",
    "</table>\n"
   ]
  },
  {
   "cell_type": "markdown",
   "metadata": {
    "slideshow": {
     "slide_type": "slide"
    }
   },
   "source": [
    "### Business\n",
    "\n",
    "<table>\n",
    "    <tr>\n",
    "    <td><img src=\"https://snag.gy/pDueQ2.jpg\" width=\"500\"></td>\n",
    "    <td>\n",
    "        <li>Identifying Demographics</li>\n",
    "        <li>Spending Patterns</li>\n",
    "        <li>Consumer Trends</li>\n",
    "        <li>Customer Characteristics</li>\n",
    "        <li>Recommender Systems</li>\n",
    "        <li>Taxonomy / Categorization</li>\n",
    "    </td>\n",
    "    </tr>\n",
    "</table>\n"
   ]
  },
  {
   "cell_type": "markdown",
   "metadata": {
    "slideshow": {
     "slide_type": "slide"
    }
   },
   "source": [
    "## What do we mean by \"labeled data\"?\n",
    "- Give me some examples!"
   ]
  },
  {
   "cell_type": "markdown",
   "metadata": {
    "slideshow": {
     "slide_type": "slide"
    }
   },
   "source": [
    "<a id='what'></a>\n",
    "## What is Clustering? \n",
    "\n",
    "---\n",
    "\n",
    "<img src=\"https://snag.gy/BdfATE.jpg\" style=\"width: 500px\">\n",
    "\n",
    "Clustering is one of the most ubiquitous and widespread processes for assigning **discrete structure to data**. In clustering, we group observations in a dataset together such that the members of a group are **more similar to each other** than they are to members of other groups. There are a **wide variety of methods** and criteria to perform this task.\n",
    "\n",
    "**Properties of clustering procedures:**\n",
    "- No **\"true\" target (`y`)** / response to compare\n",
    "- We apply structure to data quantitatively based on **specific criteria**\n",
    "- Predictions of label are based **on the structure of the data**\n",
    "\n",
    "**For example:** your employer gives you a dataset of voter preferences from a local poll. They want you to figure out just exactly **how these voters are grouping based on their preferences**. The answer: clustering!"
   ]
  },
  {
   "cell_type": "markdown",
   "metadata": {
    "slideshow": {
     "slide_type": "slide"
    }
   },
   "source": [
    "<a id='knn'></a>\n",
    "## KNN review\n",
    "\n",
    "---\n",
    "\n",
    "KNN is a supervised classification method.\n",
    "\n",
    "![](https://snag.gy/WPF4ZS.jpg)"
   ]
  },
  {
   "cell_type": "markdown",
   "metadata": {
    "slideshow": {
     "slide_type": "slide"
    }
   },
   "source": [
    "**Questions (in pair):** \n",
    "- Discuss the plus/cons of unsupervised learning. In which situations would you use it? \n",
    "- Recall how the KNN algorithm works for classification. How would you modify it to turn it into an unsupervised algorithm?"
   ]
  },
  {
   "cell_type": "markdown",
   "metadata": {
    "slideshow": {
     "slide_type": "slide"
    }
   },
   "source": [
    "<a name=\"algos\"></a>\n",
    "## Clustering algorithms \n",
    "\n",
    "---\n",
    "\n",
    "The are [many different algorithms](http://scikit-learn.org/stable/modules/clustering.html) that can perform clustering given a dataset:\n",
    "\n",
    "- **K-Means** (mean centroids)\n",
    "- **Heirarchical** (nested clusters by merging or splitting successively)\n",
    "- **DBSCAN** (density based)\n",
    "- **Affinity Propagation** (graph based approach to let points 'vote' on their preferred 'exemplar')\n",
    "- **Mean Shift** (can find number of clusters)\n",
    "- **Spectral Clustering**\n",
    "- **Agglomerative Clustering** (suite of algorithms all based on applying the same criteria/characteristics of one cluster to others)\n",
    "\n",
    "\n",
    "\n",
    "Today we're going to look only at one of the algorithms: **k-means.**"
   ]
  },
  {
   "cell_type": "markdown",
   "metadata": {
    "slideshow": {
     "slide_type": "slide"
    }
   },
   "source": [
    "<a id='k-means'></a>\n",
    "## K-Means clustering\n",
    "\n",
    "---\n",
    "\n",
    "#### K-Means is the most popular clustering algorithm\n",
    "\n",
    "K-means is one of the easier methods to understand and other clustering techniques use some of the same assumptions that K-Means relies on.\n",
    "\n",
    "- **K** is the number of clusters.\n",
    "- **Means** refers to the mean points of the K clusters.\n",
    "\n",
    "The number of clusters $k$ is chosen in advance. The goal is to partition the data into set **such that the total sum of squared distances** from each point to the mean point of the cluster is minimized.\n",
    "\n",
    "The algorithm takes your entire dataset and iterates over its features and observations to determine clusters based around center points. These center points are known as **centroids**. \n",
    "\n",
    "**Question:** What can you say about the loss function of the K-Means algorithm? What are the 2 most important consequences?"
   ]
  },
  {
   "cell_type": "markdown",
   "metadata": {
    "slideshow": {
     "slide_type": "slide"
    }
   },
   "source": [
    "**K-means iterative fitting:**\n",
    "1. Pick a value for k (the number of clusters to create)\n",
    "2. Initialize k 'centroids' (starting points) in your data\n",
    "3. Create your clusters. Assign each point to the nearest centroid. \n",
    "4. Make your clusters better. Move each centroid to the center of its cluster. \n",
    "5. Repeat steps 3-4 until your centroids converge. \n",
    "\n",
    "> **Note:** Unfortunately there is no formula to determine the absolute best number of $k$ clusters. Unsupervised learning is inherently subjective! We can, however, choose the \"best\" $k$ based on predetermined criteria. "
   ]
  },
  {
   "cell_type": "markdown",
   "metadata": {
    "slideshow": {
     "slide_type": "slide"
    }
   },
   "source": [
    "<a id='euclidean'></a>\n",
    "## Refresher: Euclidean distance\n",
    "\n",
    "---\n",
    "\n",
    "### $$ d(x_1, x_2) = \\sqrt{\\sum_{i=1}^N (x_{1i} - x_{2i})^2} $$\n",
    "\n",
    "**For example, take two points:**\n",
    "\n",
    "- $x1 = (2, -1, 3)$\n",
    "- $x2 = (-2, 2, 3)$\n",
    "\n",
    "**The Euclidean distance between these two points is:**\n",
    "\n",
    "### $$\\begin{aligned}\n",
    "d(x1, x2) &= \\sqrt{ (2 - (-2))^2 + ((-1) - 2)^2 +(3 - 3)^2} \\\\\n",
    "d(x1, x2) &= \\sqrt{25} \\\\\n",
    "d(x1, x2) &= 5 \n",
    "\\end{aligned}$$\n",
    "\n",
    "**Using sklearn:**\n",
    "```python\n",
    "import numpy as np\n",
    "from sklearn.metrics import euclidean_distances\n",
    "X = np.array([[2, -1], [-2, 2]])\n",
    "print(euclidean_distances(X))\n",
    "```\n",
    "\n"
   ]
  },
  {
   "cell_type": "markdown",
   "metadata": {
    "slideshow": {
     "slide_type": "slide"
    }
   },
   "source": [
    "<a id='km-steps'></a>\n",
    "## K-Means step-by-step\n",
    "\n",
    "---\n",
    "\n",
    "<table width=\"500\" cellpadding=\"50\"> \n",
    "<tr>\n",
    "   <td><img src=\"https://snag.gy/7haoS3.jpg\" style=\"width: 150px\"></td>\n",
    "   <td style=\"vertical-align: top; width: 400px;\"><br><b>Step 1.</b><br>We have data in a N-Dimensional feature space (2D for example).</td>\n",
    "</tr>\n",
    "<tr>\n",
    "</table>"
   ]
  },
  {
   "cell_type": "markdown",
   "metadata": {
    "slideshow": {
     "slide_type": "subslide"
    }
   },
   "source": [
    "<table width=500 cellpadding=\"50\"> \n",
    "<tr>\n",
    "   <td><img src=\"https://snag.gy/DaIVgk.jpg\" style=\"width: 150px !important;\"></td>\n",
    "   <td style=\"align: top; width: 400px; vertical-align: top;\"><br><b>Step 2.</b><br>Intialize K centroid (2 here).</td>\n",
    "</tr>\n",
    "<tr>\n",
    "</table>"
   ]
  },
  {
   "cell_type": "markdown",
   "metadata": {
    "slideshow": {
     "slide_type": "subslide"
    }
   },
   "source": [
    "<table width=500 cellpadding=\"50\"> \n",
    "<tr>\n",
    "   <td><img src=\"https://snag.gy/DaIVgk.jpg\" style=\"width: 150px !important;\"></td>\n",
    "   <td style=\"align: top; width: 400px; vertical-align: top;\"><b>Step 3.</b><br>Assign points to *closest* cluster based on _euclidean distance_.<br><br>$\\sqrt{(x_1-x_2)^2 + (y_1-y_2)^2}$\n",
    "\n",
    "   </td>\n",
    "</tr>\n",
    "<tr>\n",
    "</table>"
   ]
  },
  {
   "cell_type": "markdown",
   "metadata": {
    "slideshow": {
     "slide_type": "subslide"
    }
   },
   "source": [
    "<table width=500 cellpadding=\"50\"> \n",
    "<tr>\n",
    "   <td><img src=\"https://snag.gy/NY1EeT.jpg\" style=\"width: 150px !important;\"></td>\n",
    "   <td style=\"align: top; width: 400px; vertical-align: top;\"><b>Step 4.</b><br>Calculate mean of points assigned to centroid (2 here).  Update new centroid positions to mean (ie: geometric center).<br><br>$new\\ centroid\\ position= \\bar{x}, \\bar{y}$\n",
    "   </td>\n",
    "</tr>\n",
    "<tr>\n",
    "</table>"
   ]
  },
  {
   "cell_type": "markdown",
   "metadata": {
    "slideshow": {
     "slide_type": "subslide"
    }
   },
   "source": [
    "<table width=500 cellpadding=\"50\"> \n",
    "<tr>\n",
    "   <td><img src=\"https://snag.gy/tSfDZs.jpg\" style=\"width: 150px !important;\"></td>\n",
    "   <td style=\"align: top; width: 400px; vertical-align: top;\"><b>Step 5.</b><br>Repeat step 3-4, updating class membership based on centroid distance.\n",
    "   </td>\n",
    "</tr>\n",
    "<tr>\n",
    "</table>"
   ]
  },
  {
   "cell_type": "markdown",
   "metadata": {
    "slideshow": {
     "slide_type": "subslide"
    }
   },
   "source": [
    "<table width=500 cellpadding=\"50\"> \n",
    "<tr>\n",
    "   <td><img src=\"https://snag.gy/BbIicn.jpg\" style=\"width: 150px !important;\"></td>\n",
    "   <td style=\"align: top; width: 400px; vertical-align: top;\"><b>Fin.</b><br>Convergence is met once all points no longer change to a new class (defined by closest centroid distance).\n",
    "   </td>\n",
    "</tr>\n",
    "<tr>\n",
    "</table>"
   ]
  },
  {
   "cell_type": "markdown",
   "metadata": {
    "slideshow": {
     "slide_type": "slide"
    }
   },
   "source": [
    "<a id='vis'></a>\n",
    "## K-Means: a visual example\n",
    "\n",
    "---\n",
    "\n",
    "![](https://snag.gy/5hFXUA.jpg)"
   ]
  },
  {
   "cell_type": "markdown",
   "metadata": {
    "slideshow": {
     "slide_type": "slide"
    }
   },
   "source": [
    "<a id='caveats'></a>\n",
    "## A few K-Means caveats...\n",
    "\n",
    "---\n",
    "\n",
    "Nothing's perfect!"
   ]
  },
  {
   "cell_type": "markdown",
   "metadata": {
    "slideshow": {
     "slide_type": "subslide"
    }
   },
   "source": [
    "<a id='sensitive'></a>\n",
    "### K-Means is sensitive to outliers\n",
    "\n",
    "![](https://snag.gy/WFNMQY.jpg)"
   ]
  },
  {
   "cell_type": "markdown",
   "metadata": {
    "slideshow": {
     "slide_type": "subslide"
    }
   },
   "source": [
    "<a id='centroid-init'></a>\n",
    "### K-Means is sensitive to centroid initialization\n",
    "\n",
    "![](https://snag.gy/5sigCD.jpg)"
   ]
  },
  {
   "cell_type": "markdown",
   "metadata": {
    "slideshow": {
     "slide_type": "slide"
    }
   },
   "source": [
    "<a id='how-many-k'></a>\n",
    "### How many K?\n",
    "\n",
    "Sometimes it's obvious, sometimes it's not!  What do you think?\n",
    "\n",
    "<table>\n",
    "    <tr>\n",
    "        <td valign=\"bottom\" style=\"vertical-align: bottom; text-align: center;\"><img src=\"http://i.stack.imgur.com/4rU39.png\"><br>1</td>\n",
    "        <td valign=\"bottom\" style=\"vertical-align: bottom; text-align: center;\"><img src=\"http://i.stack.imgur.com/gq28F.png\"><br>2</td>\n",
    "        <td valign=\"bottom\" style=\"vertical-align: bottom; text-align: center;\"><img src=\"https://snag.gy/cWPgno.jpg\"><br>3</td>\n",
    "    </tr>\n",
    "</table>"
   ]
  },
  {
   "cell_type": "markdown",
   "metadata": {
    "slideshow": {
     "slide_type": "slide"
    }
   },
   "source": [
    "<a id='choose-k'></a>\n",
    "## Choosing K\n",
    "\n",
    "---\n",
    "\n",
    "There are different methods of initializing centroids. For instance:\n",
    "\n",
    "- Randomly\n",
    "- Manually\n",
    "- Special KMeans++ method in Sklearn (_This initializes the centroids to be generally distant from each other_)\n",
    "\n",
    "**Depending on your problem, you may find some of these are better than others.**\n",
    "\n",
    "> **Note:** Manual is recommended if you know your data well enough to see the clusters without much help, but rarely used in practice."
   ]
  },
  {
   "cell_type": "markdown",
   "metadata": {
    "slideshow": {
     "slide_type": "slide"
    }
   },
   "source": [
    "<a id='converge'></a>\n",
    "## A note on K-Means convergence\n",
    "\n",
    "---\n",
    "\n",
    "In general, k-means will converge to a solution and return a partition of k clusters, even if no natural clusters exist in the data.  **It's entirely possible – in fact, *common* – that the clusters do not mean anything at all. **\n",
    "\n",
    "**Knowing your domain and dataset is essential. Evaluating the clusters visually is a must (if possible).**\n",
    "\n",
    "> _\"Given enough time, K-means will always converge, however this may be to a local minimum. This is highly dependent on the initialization of the centroids. As a result, the computation is often done several times, with different initializations of the centroids. One method to help address this issue is the k-means++ initialization scheme, which has been implemented in scikit-learn (use the init='kmeans++' parameter). This initializes the centroids to be (generally) distant from each other, leading to provably better results than random initialization, as shown in the reference.\"_ [sklearn Clustering Guide](http://scikit-learn.org/stable/modules/clustering.html#k-means)\n",
    "\n",
    "![](http://www.datamilk.com/kmeans_animation.gif)"
   ]
  },
  {
   "cell_type": "markdown",
   "metadata": {
    "slideshow": {
     "slide_type": "slide"
    }
   },
   "source": [
    "<img src=\"https://snag.gy/YUt5RO.jpg\" style=\"float: left; margin-right: 25px; width: 250px\">\n",
    "\n",
    "## Pair questions:\n",
    "\n",
    "- Explain on paper how the k-means algorithm works\n",
    "- What problems do you think arise during \"clustering\"?\n",
    "- What about the dimensions? Is it a problem for this algorithm? Explain with your own words\n",
    "- What kind of data are we talking about? In the simple form of Kmeans, discuss its sensitivity to outliers.\n",
    "- For two runs of K-Mean clustering is it expected to always get same clustering results?"
   ]
  },
  {
   "cell_type": "markdown",
   "metadata": {
    "slideshow": {
     "slide_type": "slide"
    }
   },
   "source": [
    "<a id='kmeans-skl'></a>\n",
    "## K-Means in sklearn\n",
    "\n",
    "---\n",
    "\n",
    "Below we will implement K-Means using sklearn."
   ]
  },
  {
   "cell_type": "code",
<<<<<<< HEAD
   "execution_count": 1,
=======
   "execution_count": 37,
>>>>>>> 09062121e18c092e89e95e920e5d292b20cb7757
   "metadata": {},
   "outputs": [],
   "source": [
    "from sklearn.cluster import KMeans\n",
    "from sklearn.preprocessing import StandardScaler\n",
    "from sklearn.datasets.samples_generator import make_blobs\n",
    "import numpy as np\n",
    "import pandas as pd\n",
    "from matplotlib import pyplot as plt\n",
    "%matplotlib inline"
   ]
  },
  {
   "cell_type": "code",
<<<<<<< HEAD
   "execution_count": 2,
=======
   "execution_count": 50,
>>>>>>> 09062121e18c092e89e95e920e5d292b20cb7757
   "metadata": {
    "slideshow": {
     "slide_type": "-"
    }
   },
   "outputs": [
    {
     "data": {
      "text/html": [
       "<div>\n",
       "<style scoped>\n",
       "    .dataframe tbody tr th:only-of-type {\n",
       "        vertical-align: middle;\n",
       "    }\n",
       "\n",
       "    .dataframe tbody tr th {\n",
       "        vertical-align: top;\n",
       "    }\n",
       "\n",
       "    .dataframe thead th {\n",
       "        text-align: right;\n",
       "    }\n",
       "</style>\n",
       "<table border=\"1\" class=\"dataframe\">\n",
       "  <thead>\n",
       "    <tr style=\"text-align: right;\">\n",
       "      <th></th>\n",
       "      <th>x</th>\n",
       "      <th>y</th>\n",
       "    </tr>\n",
       "  </thead>\n",
       "  <tbody>\n",
       "    <tr>\n",
       "      <th>0</th>\n",
       "      <td>-1.733808</td>\n",
       "      <td>3.798061</td>\n",
       "    </tr>\n",
       "    <tr>\n",
       "      <th>1</th>\n",
       "      <td>0.628358</td>\n",
       "      <td>4.460136</td>\n",
       "    </tr>\n",
       "    <tr>\n",
       "      <th>2</th>\n",
       "      <td>1.131218</td>\n",
       "      <td>4.681950</td>\n",
       "    </tr>\n",
       "    <tr>\n",
       "      <th>3</th>\n",
       "      <td>-1.429179</td>\n",
       "      <td>3.500836</td>\n",
       "    </tr>\n",
       "    <tr>\n",
       "      <th>4</th>\n",
       "      <td>1.274508</td>\n",
       "      <td>5.630173</td>\n",
       "    </tr>\n",
       "  </tbody>\n",
       "</table>\n",
       "</div>"
      ],
      "text/plain": [
       "          x         y\n",
       "0 -1.733808  3.798061\n",
       "1  0.628358  4.460136\n",
       "2  1.131218  4.681950\n",
       "3 -1.429179  3.500836\n",
       "4  1.274508  5.630173"
      ]
     },
<<<<<<< HEAD
     "execution_count": 2,
=======
     "execution_count": 50,
>>>>>>> 09062121e18c092e89e95e920e5d292b20cb7757
     "metadata": {},
     "output_type": "execute_result"
    }
   ],
   "source": [
    "# create dataset\n",
    "X, y = make_blobs(\n",
    "    n_samples    =  200, \n",
    "    centers      =  3, \n",
    "    n_features   =  2,\n",
    "    random_state =  0\n",
    ")\n",
    "\n",
    "df = pd.DataFrame(X, columns=['x', 'y'])\n",
    "df.head()\n"
   ]
  },
  {
   "cell_type": "code",
<<<<<<< HEAD
   "execution_count": 3,
=======
   "execution_count": 51,
>>>>>>> 09062121e18c092e89e95e920e5d292b20cb7757
   "metadata": {
    "slideshow": {
     "slide_type": "slide"
    }
   },
   "outputs": [
    {
     "data": {
      "text/plain": [
<<<<<<< HEAD
       "<matplotlib.axes._subplots.AxesSubplot at 0x1a24a5c390>"
      ]
     },
     "execution_count": 3,
=======
       "<matplotlib.axes._subplots.AxesSubplot at 0x1a1f1c8588>"
      ]
     },
     "execution_count": 51,
>>>>>>> 09062121e18c092e89e95e920e5d292b20cb7757
     "metadata": {},
     "output_type": "execute_result"
    },
    {
     "data": {
<<<<<<< HEAD
      "image/png": "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\n",
=======
      "image/png": "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\n",
>>>>>>> 09062121e18c092e89e95e920e5d292b20cb7757
      "text/plain": [
       "<Figure size 432x288 with 1 Axes>"
      ]
     },
<<<<<<< HEAD
     "metadata": {
      "needs_background": "light"
     },
=======
     "metadata": {},
>>>>>>> 09062121e18c092e89e95e920e5d292b20cb7757
     "output_type": "display_data"
    }
   ],
   "source": [
    "# plot features \n",
    "df.plot(kind='scatter', x='x', y='y')"
   ]
  },
  {
   "cell_type": "code",
<<<<<<< HEAD
   "execution_count": 13,
=======
   "execution_count": 52,
>>>>>>> 09062121e18c092e89e95e920e5d292b20cb7757
   "metadata": {},
   "outputs": [],
   "source": [
    "# Scale data\n",
<<<<<<< HEAD
    "s = StandardScaler()\n",
    "X = s.fit_transform(X)\n"
=======
    "# s = StandardScaler()\n",
    "# X = s.fit_transform(X)"
>>>>>>> 09062121e18c092e89e95e920e5d292b20cb7757
   ]
  },
  {
   "cell_type": "code",
<<<<<<< HEAD
   "execution_count": 19,
=======
   "execution_count": 53,
>>>>>>> 09062121e18c092e89e95e920e5d292b20cb7757
   "metadata": {
    "slideshow": {
     "slide_type": "slide"
    }
   },
   "outputs": [],
   "source": [
    "# create model \n",
    "model = KMeans(n_clusters=3).fit(X)"
   ]
  },
  {
   "cell_type": "markdown",
   "metadata": {
    "slideshow": {
     "slide_type": "-"
    }
   },
   "source": [
    "After we fit our data, we can get our predicted labels from `model.labels_` and the center points`model.cluster_centers_`."
   ]
  },
  {
   "cell_type": "code",
<<<<<<< HEAD
   "execution_count": 20,
=======
   "execution_count": 54,
>>>>>>> 09062121e18c092e89e95e920e5d292b20cb7757
   "metadata": {},
   "outputs": [
    {
     "data": {
      "text/plain": [
<<<<<<< HEAD
       "array([2, 1, 1, 2, 1, 2, 0, 1, 1, 2, 1, 2, 1, 1, 1, 2, 0, 0, 2, 2, 2, 0,\n",
       "       1, 1, 2, 2, 0, 2, 2, 2, 1, 1, 2, 1, 0, 0, 1, 0, 0, 2, 0, 2, 2, 2,\n",
       "       1, 1, 1, 2, 1, 1, 1, 0, 2, 2, 2, 2, 0, 0, 1, 1, 2, 1, 1, 0, 0, 2,\n",
       "       0, 0, 2, 0, 0, 1, 1, 2, 1, 2, 0, 0, 0, 2, 2, 1, 1, 0, 0, 1, 1, 2,\n",
       "       1, 0, 2, 2, 0, 1, 0, 1, 1, 2, 2, 0, 0, 1, 2, 1, 2, 1, 0, 1, 2, 0,\n",
       "       1, 2, 0, 1, 1, 1, 1, 0, 2, 2, 0, 0, 2, 1, 0, 2, 2, 0, 2, 1, 2, 0,\n",
       "       0, 0, 1, 0, 0, 1, 0, 2, 2, 2, 1, 0, 0, 1, 2, 2, 0, 1, 0, 2, 2, 2,\n",
       "       1, 0, 0, 0, 1, 1, 0, 2, 2, 2, 1, 1, 0, 2, 0, 0, 2, 0, 1, 0, 2, 2,\n",
       "       0, 2, 1, 0, 1, 2, 0, 0, 0, 0, 2, 0, 1, 1, 2, 2, 0, 0, 0, 0, 2, 0,\n",
       "       1, 0], dtype=int32)"
      ]
     },
     "execution_count": 20,
=======
       "array([0, 2, 2, 0, 2, 0, 1, 2, 2, 0, 2, 0, 2, 2, 2, 0, 1, 1, 0, 0, 0, 1,\n",
       "       2, 2, 0, 0, 1, 0, 0, 0, 2, 2, 0, 2, 1, 1, 2, 1, 1, 0, 1, 0, 0, 0,\n",
       "       2, 2, 2, 0, 2, 2, 2, 1, 0, 0, 0, 0, 1, 1, 2, 2, 0, 2, 2, 1, 1, 0,\n",
       "       1, 1, 0, 1, 1, 2, 2, 0, 2, 0, 1, 1, 1, 0, 0, 2, 2, 1, 1, 2, 2, 0,\n",
       "       2, 1, 0, 0, 1, 2, 1, 2, 2, 0, 0, 1, 1, 2, 0, 2, 0, 2, 1, 2, 0, 1,\n",
       "       2, 0, 1, 2, 2, 2, 2, 1, 0, 0, 1, 1, 0, 2, 1, 0, 0, 1, 0, 2, 0, 1,\n",
       "       1, 1, 2, 1, 1, 2, 1, 0, 0, 0, 2, 1, 1, 2, 0, 0, 1, 2, 1, 0, 0, 0,\n",
       "       2, 1, 1, 1, 2, 2, 1, 0, 0, 0, 2, 2, 1, 0, 1, 1, 0, 1, 2, 1, 0, 0,\n",
       "       1, 0, 2, 1, 2, 0, 1, 1, 1, 1, 0, 1, 2, 2, 0, 0, 1, 1, 1, 1, 0, 1,\n",
       "       2, 1], dtype=int32)"
      ]
     },
     "execution_count": 54,
>>>>>>> 09062121e18c092e89e95e920e5d292b20cb7757
     "metadata": {},
     "output_type": "execute_result"
    }
   ],
   "source": [
    "# get prediction\n",
    "predicted = model.labels_\n",
    "predicted"
   ]
  },
  {
   "cell_type": "code",
<<<<<<< HEAD
   "execution_count": 21,
=======
   "execution_count": 55,
>>>>>>> 09062121e18c092e89e95e920e5d292b20cb7757
   "metadata": {
    "slideshow": {
     "slide_type": "-"
    }
   },
   "outputs": [
    {
     "data": {
      "text/plain": [
<<<<<<< HEAD
       "array([[ 0.85744319, -1.05162036],\n",
       "       [ 0.30929532,  1.03051405],\n",
       "       [-1.15660567,  0.11234441]])"
      ]
     },
     "execution_count": 21,
=======
       "array([[-1.71656153,  2.91261167],\n",
       "       [ 1.98410174,  0.81302038],\n",
       "       [ 0.97692125,  4.56883102]])"
      ]
     },
     "execution_count": 55,
>>>>>>> 09062121e18c092e89e95e920e5d292b20cb7757
     "metadata": {},
     "output_type": "execute_result"
    }
   ],
   "source": [
    "# get centroids \n",
    "centroids = model.cluster_centers_\n",
<<<<<<< HEAD
    "\n",
    "centroids"
   ]
  },
  {
   "cell_type": "code",
   "execution_count": 26,
   "metadata": {},
   "outputs": [
    {
     "data": {
      "text/plain": [
       "array([[ 0.30929532,  1.03051405],\n",
       "       [ 0.85744319, -1.05162036],\n",
       "       [-1.15660567,  0.11234441]])"
      ]
     },
     "execution_count": 26,
     "metadata": {},
     "output_type": "execute_result"
    }
   ],
   "source": [
    "# create model \n",
    "model = KMeans(n_clusters=3).fit(X)\n",
    "\n",
    "# get prediction\n",
    "predicted = model.labels_\n",
    "\n",
    "# get centroids \n",
    "centroids = model.cluster_centers_\n",
    "\n",
=======
>>>>>>> 09062121e18c092e89e95e920e5d292b20cb7757
    "centroids"
   ]
  },
  {
   "cell_type": "code",
   "execution_count": 56,
   "metadata": {
    "slideshow": {
     "slide_type": "-"
    }
   },
   "outputs": [
    {
     "data": {
      "text/html": [
       "<div>\n",
       "<style scoped>\n",
       "    .dataframe tbody tr th:only-of-type {\n",
       "        vertical-align: middle;\n",
       "    }\n",
       "\n",
       "    .dataframe tbody tr th {\n",
       "        vertical-align: top;\n",
       "    }\n",
       "\n",
       "    .dataframe thead th {\n",
       "        text-align: right;\n",
       "    }\n",
       "</style>\n",
       "<table border=\"1\" class=\"dataframe\">\n",
       "  <thead>\n",
       "    <tr style=\"text-align: right;\">\n",
       "      <th></th>\n",
       "      <th>x</th>\n",
       "      <th>y</th>\n",
       "      <th>predicted</th>\n",
       "    </tr>\n",
       "  </thead>\n",
       "  <tbody>\n",
       "    <tr>\n",
       "      <th>0</th>\n",
       "      <td>-1.733808</td>\n",
       "      <td>3.798061</td>\n",
       "      <td>0</td>\n",
       "    </tr>\n",
       "    <tr>\n",
       "      <th>1</th>\n",
       "      <td>0.628358</td>\n",
       "      <td>4.460136</td>\n",
       "      <td>2</td>\n",
       "    </tr>\n",
       "    <tr>\n",
       "      <th>2</th>\n",
       "      <td>1.131218</td>\n",
       "      <td>4.681950</td>\n",
       "      <td>2</td>\n",
       "    </tr>\n",
       "    <tr>\n",
       "      <th>3</th>\n",
       "      <td>-1.429179</td>\n",
       "      <td>3.500836</td>\n",
       "      <td>0</td>\n",
       "    </tr>\n",
       "    <tr>\n",
       "      <th>4</th>\n",
       "      <td>1.274508</td>\n",
       "      <td>5.630173</td>\n",
       "      <td>2</td>\n",
       "    </tr>\n",
       "  </tbody>\n",
       "</table>\n",
       "</div>"
      ],
      "text/plain": [
       "          x         y  predicted\n",
       "0 -1.733808  3.798061          0\n",
       "1  0.628358  4.460136          2\n",
       "2  1.131218  4.681950          2\n",
       "3 -1.429179  3.500836          0\n",
       "4  1.274508  5.630173          2"
      ]
     },
     "execution_count": 56,
     "metadata": {},
     "output_type": "execute_result"
    }
   ],
   "source": [
    "# add predicted labels to dataframe\n",
    "df['predicted'] = predicted\n",
    "df.head()"
   ]
  },
  {
   "cell_type": "markdown",
   "metadata": {
    "slideshow": {
     "slide_type": "slide"
    }
   },
   "source": [
    "<a id='verify'></a>\n",
    "### Visually verifying cluster labels"
   ]
  },
  {
   "cell_type": "code",
   "execution_count": 57,
   "metadata": {},
   "outputs": [],
   "source": [
    "# import matplotlib as plt\n",
    "# matplotlib.style.use('ggplot')"
   ]
  },
  {
   "cell_type": "code",
   "execution_count": 58,
   "metadata": {
    "scrolled": true,
    "slideshow": {
     "slide_type": "-"
    }
   },
   "outputs": [
    {
     "data": {
      "text/plain": [
       "<matplotlib.collections.PathCollection at 0x1a1f3fef98>"
      ]
     },
     "execution_count": 58,
     "metadata": {},
     "output_type": "execute_result"
    },
    {
     "data": {
      "image/png": "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\n",
      "text/plain": [
       "<Figure size 432x288 with 1 Axes>"
      ]
     },
     "metadata": {},
     "output_type": "display_data"
    }
   ],
   "source": [
    "df.plot(kind='scatter', x='x', y='y', c=predicted)\n",
    "plt.scatter(centroids[:, 0], centroids[:, 1], marker = 'o', s=100)"
   ]
  },
  {
   "cell_type": "markdown",
   "metadata": {
    "slideshow": {
     "slide_type": "slide"
    }
   },
   "source": [
    "<a id='verify'></a>\n",
    "### Elbow method to find K"
   ]
  },
  {
   "cell_type": "code",
   "execution_count": 66,
   "metadata": {},
   "outputs": [],
   "source": [
    "inertia = {}\n",
    "# for k in range(1, df.shape[0]):\n",
    "for k in range(1, 30): # for plotting\n",
    "    model = KMeans(n_clusters=k).fit(X)\n",
    "    inertia[k] = model.inertia_\n",
    "    "
   ]
  },
  {
   "cell_type": "code",
   "execution_count": 67,
   "metadata": {},
   "outputs": [],
   "source": [
    "#inertiatia"
   ]
  },
  {
   "cell_type": "code",
   "execution_count": 68,
   "metadata": {},
   "outputs": [
    {
     "data": {
      "text/plain": [
       "[<matplotlib.lines.Line2D at 0x10c860940>]"
      ]
     },
     "execution_count": 68,
     "metadata": {},
     "output_type": "execute_result"
    },
    {
     "data": {
      "image/png": "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\n",
      "text/plain": [
       "<Figure size 432x288 with 1 Axes>"
      ]
     },
     "metadata": {},
     "output_type": "display_data"
    }
   ],
   "source": [
    "plt.plot(list(inertia.keys()), list(inertia.values()))"
   ]
  },
  {
   "cell_type": "markdown",
   "metadata": {
    "slideshow": {
     "slide_type": "slide"
    }
   },
   "source": [
    "<a id='conclusion'></a>\n",
    "## Conclusion: K-Means tradeoffs\n",
    "\n",
    "---\n",
    "\n",
    "**K-Means:**\n",
    "- Unsupervised clustering model\n",
    "- Similar to KNN (but for “clustering”)\n",
    "- Iteratively finds labels given K\n",
    "- Easy to implement in sklearn\n",
    "- Sensitive to shape, scale of data\n",
    "- Optimal K hard to evaluate\n",
    "\n",
    "---\n",
    "\n",
    "| Strengths | Weaknesses |\n",
    "| -- | -- |\n",
    "| K-Means is popular because it's simple and computationally efficient. | However, K-Means is highly scale dependent and isn't suitable for data of varying shapes and densities. |\n",
    "| Easy to see results / intuitive. | Evaluating results is more subjective, requiring much more human evaluation than trusted metrics. |"
   ]
  },
  {
   "cell_type": "markdown",
   "metadata": {},
   "source": [
    "<a id='resources'></a>\n",
    "\n",
    "## Additional resources\n",
    "\n",
    "---\n",
    "\n",
    "- Andrew Moore's CS class at Carnegie Mellon contains good static visualization, step-by-step. His slide deck is online here: http://www.cs.cmu.edu/~cga/ai-course/kmeans.pdf. He also links to more of his tutorials on the first page. \n",
    "- [Sci-Kit Learn Clustering Overview](http://scikit-learn.org/stable/modules/clustering.html#k-means)\n",
    "- [SKLearn K-Means Documentation](http://scikit-learn.org/stable/modules/generated/sklearn.cluster.KMeans.html#sklearn.cluster.KMeans)\n",
    "- [SKLearn Clustering Code - See _k_init__ for explanation of k++ centroid selection](https://github.com/scikit-learn/scikit-learn/blob/51a765a/sklearn/cluster/k_means_.py#L769)\n",
    "- [Clustering Tutorial](http://home.deib.polimi.it/matteucc/Clustering/tutorial_html/)\n",
    "- [Wikipedia's Deep Dive on Clustering](https://en.wikipedia.org/wiki/K-means_clustering)\n",
    "\n",
    "\n",
    "**Some helpful stackexchange questions:**\n",
    "- http://stats.stackexchange.com/questions/40613/why-dont-dummy-variables-have-the-continuous-adjacent-category-problem-in-clust\n",
    "- http://stats.stackexchange.com/questions/174556/k-means-clustering-with-dummy-variables\n",
    "- http://datascience.stackexchange.com/questions/22/k-means-clustering-for-mixed-numeric-and-categorical-data\n",
    "\n",
    "\n"
   ]
  },
  {
   "cell_type": "code",
   "execution_count": null,
   "metadata": {},
   "outputs": [],
   "source": []
  }
 ],
 "metadata": {
  "anaconda-cloud": {},
  "kernelspec": {
   "display_name": "Python 3",
   "language": "python",
   "name": "python3"
  },
  "language_info": {
   "codemirror_mode": {
    "name": "ipython",
    "version": 3
   },
   "file_extension": ".py",
   "mimetype": "text/x-python",
   "name": "python",
   "nbconvert_exporter": "python",
   "pygments_lexer": "ipython3",
   "version": "3.7.1"
  },
  "toc": {
   "nav_menu": {},
   "number_sections": false,
   "sideBar": true,
   "skip_h1_title": false,
   "title_cell": "Table of Contents",
   "title_sidebar": "Contents",
   "toc_cell": false,
   "toc_position": {},
   "toc_section_display": true,
   "toc_window_display": false
  },
  "varInspector": {
   "cols": {
    "lenName": 16,
    "lenType": 16,
    "lenVar": 40
   },
   "kernels_config": {
    "python": {
     "delete_cmd_postfix": "",
     "delete_cmd_prefix": "del ",
     "library": "var_list.py",
     "varRefreshCmd": "print(var_dic_list())"
    },
    "r": {
     "delete_cmd_postfix": ") ",
     "delete_cmd_prefix": "rm(",
     "library": "var_list.r",
     "varRefreshCmd": "cat(var_dic_list()) "
    }
   },
   "types_to_exclude": [
    "module",
    "function",
    "builtin_function_or_method",
    "instance",
    "_Feature"
   ],
   "window_display": false
  }
 },
 "nbformat": 4,
 "nbformat_minor": 2
}
